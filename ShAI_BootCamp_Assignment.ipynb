{
 "cells": [
  {
   "cell_type": "markdown",
   "metadata": {
    "id": "9veqgG-LVKd3",
    "pycharm": {
     "name": "#%% md\n"
    }
   },
   "source": [
    "#About Dataset\n",
    "salaries dataset generally provides information about the employees of an organization in relation to their compensation. It typically includes details such as how much each employee is paid (their salary), their job titles, the departments they work in, and possibly additional information like their level of experience, education, and employment history within the organization."
   ]
  },
  {
   "cell_type": "markdown",
   "metadata": {
    "id": "cZwHdpBfVzOh",
    "pycharm": {
     "name": "#%% md\n"
    }
   },
   "source": [
    "# Features\n",
    "- 'Id'\n",
    "- 'EmployeeName'\n",
    "- 'JobTitle'\n",
    "- 'BasePay'\n",
    "- 'OvertimePay'\n",
    "- 'OtherPay'\n",
    "- 'Benefits'\n",
    "- 'TotalPay' -> salary\n",
    "- 'TotalPayBenefits'\n",
    "- 'Year'\n",
    "- 'Notes'\n",
    "- 'Agency'\n",
    "- 'Status'\n"
   ]
  },
  {
   "cell_type": "markdown",
   "metadata": {
    "id": "X1VJposzVrSF",
    "pycharm": {
     "name": "#%% md\n"
    }
   },
   "source": [
    "# Tasks\n",
    "\n",
    "1. **Basic Data Exploration**: Identify the number of rows and columns in the dataset, determine the data types of each column, and check for missing values in each column.\n",
    "\n",
    "2. **Descriptive Statistics**: Calculate basic statistics mean, median, mode, minimum, and maximum salary, determine the range of salaries, and find the standard deviation.\n",
    "\n",
    "3. **Data Cleaning**: Handle missing data by suitable method with explain why you use it.\n",
    "\n",
    "4. **Basic Data Visualization**: Create histograms or bar charts to visualize the distribution of salaries, and use pie charts to represent the proportion of employees in different departments.\n",
    "\n",
    "5. **Grouped Analysis**: Group the data by one or more columns and calculate summary statistics for each group, and compare the average salaries across different groups.\n",
    "\n",
    "6. **Simple Correlation Analysis**: Identify any correlation between salary and another numerical column, and plot a scatter plot to visualize the relationship.\n",
    "\n",
    "8. **Summary of Insights**: Write a brief report summarizing the findings and insights from the analyses."
   ]
  },
  {
   "cell_type": "markdown",
   "metadata": {
    "id": "8_rNdHiGUT6A",
    "pycharm": {
     "name": "#%% md\n"
    }
   },
   "source": [
    "\n",
    "## Very Important Note\n",
    "There is no fixed or singular solution for this assignment, so if anything is not clear, please do what you understand and provide an explanation."
   ]
  },
  {
   "cell_type": "code",
   "execution_count": 1,
   "metadata": {
    "colab": {
     "base_uri": "https://localhost:8080/",
     "height": 486
    },
    "id": "KmZfk5xkXI2y",
    "outputId": "e77ffddb-f533-4bac-d15a-3ea9f42b7890",
    "pycharm": {
     "name": "#%%\n"
    }
   },
   "outputs": [],
   "source": [
    "import re \n",
    "\n",
    "import pandas as pd\n",
    "import numpy as np\n",
    "import matplotlib.pyplot as plt"
   ]
  },
  {
   "cell_type": "code",
   "execution_count": 2,
   "metadata": {},
   "outputs": [
    {
     "data": {
      "text/html": [
       "<div>\n",
       "<style scoped>\n",
       "    .dataframe tbody tr th:only-of-type {\n",
       "        vertical-align: middle;\n",
       "    }\n",
       "\n",
       "    .dataframe tbody tr th {\n",
       "        vertical-align: top;\n",
       "    }\n",
       "\n",
       "    .dataframe thead th {\n",
       "        text-align: right;\n",
       "    }\n",
       "</style>\n",
       "<table border=\"1\" class=\"dataframe\">\n",
       "  <thead>\n",
       "    <tr style=\"text-align: right;\">\n",
       "      <th></th>\n",
       "      <th>Id</th>\n",
       "      <th>EmployeeName</th>\n",
       "      <th>JobTitle</th>\n",
       "      <th>BasePay</th>\n",
       "      <th>OvertimePay</th>\n",
       "      <th>OtherPay</th>\n",
       "      <th>Benefits</th>\n",
       "      <th>TotalPay</th>\n",
       "      <th>TotalPayBenefits</th>\n",
       "      <th>Year</th>\n",
       "      <th>Notes</th>\n",
       "      <th>Agency</th>\n",
       "      <th>Status</th>\n",
       "    </tr>\n",
       "  </thead>\n",
       "  <tbody>\n",
       "    <tr>\n",
       "      <th>0</th>\n",
       "      <td>1</td>\n",
       "      <td>NATHANIEL FORD</td>\n",
       "      <td>GENERAL MANAGER-METROPOLITAN TRANSIT AUTHORITY</td>\n",
       "      <td>167411.18</td>\n",
       "      <td>0.00</td>\n",
       "      <td>400184.25</td>\n",
       "      <td>NaN</td>\n",
       "      <td>567595.43</td>\n",
       "      <td>567595.43</td>\n",
       "      <td>2011</td>\n",
       "      <td>NaN</td>\n",
       "      <td>San Francisco</td>\n",
       "      <td>NaN</td>\n",
       "    </tr>\n",
       "    <tr>\n",
       "      <th>1</th>\n",
       "      <td>2</td>\n",
       "      <td>GARY JIMENEZ</td>\n",
       "      <td>CAPTAIN III (POLICE DEPARTMENT)</td>\n",
       "      <td>155966.02</td>\n",
       "      <td>245131.88</td>\n",
       "      <td>137811.38</td>\n",
       "      <td>NaN</td>\n",
       "      <td>538909.28</td>\n",
       "      <td>538909.28</td>\n",
       "      <td>2011</td>\n",
       "      <td>NaN</td>\n",
       "      <td>San Francisco</td>\n",
       "      <td>NaN</td>\n",
       "    </tr>\n",
       "    <tr>\n",
       "      <th>2</th>\n",
       "      <td>3</td>\n",
       "      <td>ALBERT PARDINI</td>\n",
       "      <td>CAPTAIN III (POLICE DEPARTMENT)</td>\n",
       "      <td>212739.13</td>\n",
       "      <td>106088.18</td>\n",
       "      <td>16452.60</td>\n",
       "      <td>NaN</td>\n",
       "      <td>335279.91</td>\n",
       "      <td>335279.91</td>\n",
       "      <td>2011</td>\n",
       "      <td>NaN</td>\n",
       "      <td>San Francisco</td>\n",
       "      <td>NaN</td>\n",
       "    </tr>\n",
       "    <tr>\n",
       "      <th>3</th>\n",
       "      <td>4</td>\n",
       "      <td>CHRISTOPHER CHONG</td>\n",
       "      <td>WIRE ROPE CABLE MAINTENANCE MECHANIC</td>\n",
       "      <td>77916.00</td>\n",
       "      <td>56120.71</td>\n",
       "      <td>198306.90</td>\n",
       "      <td>NaN</td>\n",
       "      <td>332343.61</td>\n",
       "      <td>332343.61</td>\n",
       "      <td>2011</td>\n",
       "      <td>NaN</td>\n",
       "      <td>San Francisco</td>\n",
       "      <td>NaN</td>\n",
       "    </tr>\n",
       "    <tr>\n",
       "      <th>4</th>\n",
       "      <td>5</td>\n",
       "      <td>PATRICK GARDNER</td>\n",
       "      <td>DEPUTY CHIEF OF DEPARTMENT,(FIRE DEPARTMENT)</td>\n",
       "      <td>134401.60</td>\n",
       "      <td>9737.00</td>\n",
       "      <td>182234.59</td>\n",
       "      <td>NaN</td>\n",
       "      <td>326373.19</td>\n",
       "      <td>326373.19</td>\n",
       "      <td>2011</td>\n",
       "      <td>NaN</td>\n",
       "      <td>San Francisco</td>\n",
       "      <td>NaN</td>\n",
       "    </tr>\n",
       "  </tbody>\n",
       "</table>\n",
       "</div>"
      ],
      "text/plain": [
       "   Id       EmployeeName                                        JobTitle  \\\n",
       "0   1     NATHANIEL FORD  GENERAL MANAGER-METROPOLITAN TRANSIT AUTHORITY   \n",
       "1   2       GARY JIMENEZ                 CAPTAIN III (POLICE DEPARTMENT)   \n",
       "2   3     ALBERT PARDINI                 CAPTAIN III (POLICE DEPARTMENT)   \n",
       "3   4  CHRISTOPHER CHONG            WIRE ROPE CABLE MAINTENANCE MECHANIC   \n",
       "4   5    PATRICK GARDNER    DEPUTY CHIEF OF DEPARTMENT,(FIRE DEPARTMENT)   \n",
       "\n",
       "     BasePay  OvertimePay   OtherPay  Benefits   TotalPay  TotalPayBenefits  \\\n",
       "0  167411.18         0.00  400184.25       NaN  567595.43         567595.43   \n",
       "1  155966.02    245131.88  137811.38       NaN  538909.28         538909.28   \n",
       "2  212739.13    106088.18   16452.60       NaN  335279.91         335279.91   \n",
       "3   77916.00     56120.71  198306.90       NaN  332343.61         332343.61   \n",
       "4  134401.60      9737.00  182234.59       NaN  326373.19         326373.19   \n",
       "\n",
       "   Year  Notes         Agency  Status  \n",
       "0  2011    NaN  San Francisco     NaN  \n",
       "1  2011    NaN  San Francisco     NaN  \n",
       "2  2011    NaN  San Francisco     NaN  \n",
       "3  2011    NaN  San Francisco     NaN  \n",
       "4  2011    NaN  San Francisco     NaN  "
      ]
     },
     "execution_count": 2,
     "metadata": {},
     "output_type": "execute_result"
    }
   ],
   "source": [
    "# Load your dataset\n",
    "df = pd.read_csv('Salaries.csv')\n",
    "df.head()"
   ]
  },
  {
   "cell_type": "code",
   "execution_count": 3,
   "metadata": {
    "colab": {
     "base_uri": "https://localhost:8080/"
    },
    "id": "xIT514wlvvBZ",
    "outputId": "9ecf152c-554a-4cf6-d667-efc95c16d489",
    "pycharm": {
     "name": "#%%\n"
    }
   },
   "outputs": [
    {
     "data": {
      "text/plain": [
       "Index(['Id', 'EmployeeName', 'JobTitle', 'BasePay', 'OvertimePay', 'OtherPay',\n",
       "       'Benefits', 'TotalPay', 'TotalPayBenefits', 'Year', 'Notes', 'Agency',\n",
       "       'Status'],\n",
       "      dtype='object')"
      ]
     },
     "execution_count": 3,
     "metadata": {},
     "output_type": "execute_result"
    }
   ],
   "source": [
    "df.columns"
   ]
  },
  {
   "cell_type": "code",
   "execution_count": null,
   "metadata": {
    "id": "bbIN2ujHUyRx",
    "pycharm": {
     "name": "#%%\n"
    }
   },
   "outputs": [],
   "source": []
  },
  {
   "cell_type": "code",
   "execution_count": null,
   "metadata": {
    "id": "_dovy31FUyUF",
    "pycharm": {
     "name": "#%%\n"
    }
   },
   "outputs": [],
   "source": []
  },
  {
   "cell_type": "markdown",
   "metadata": {
    "id": "HE9jbRjcUyoX",
    "pycharm": {
     "name": "#%% md\n"
    }
   },
   "source": [
    "## 1. Basic Data Exploration"
   ]
  },
  {
   "cell_type": "markdown",
   "metadata": {},
   "source": [
    "Identify the number of rows and columns in the dataset, determine the data types of each column, and check for missing values in each column."
   ]
  },
  {
   "cell_type": "code",
   "execution_count": 4,
   "metadata": {},
   "outputs": [
    {
     "name": "stdout",
     "output_type": "stream",
     "text": [
      "The number of rows is: 148654\n",
      "The number of columns is: 13\n"
     ]
    }
   ],
   "source": [
    "rows = df.shape[0]\n",
    "print('The number of rows is:', rows)\n",
    "columns = df.shape[1]\n",
    "print('The number of columns is:', columns)\n"
   ]
  },
  {
   "cell_type": "code",
   "execution_count": 5,
   "metadata": {},
   "outputs": [
    {
     "name": "stdout",
     "output_type": "stream",
     "text": [
      "<class 'pandas.core.frame.DataFrame'>\n",
      "RangeIndex: 148654 entries, 0 to 148653\n",
      "Data columns (total 13 columns):\n",
      " #   Column            Non-Null Count   Dtype  \n",
      "---  ------            --------------   -----  \n",
      " 0   Id                148654 non-null  int64  \n",
      " 1   EmployeeName      148654 non-null  object \n",
      " 2   JobTitle          148654 non-null  object \n",
      " 3   BasePay           148045 non-null  float64\n",
      " 4   OvertimePay       148650 non-null  float64\n",
      " 5   OtherPay          148650 non-null  float64\n",
      " 6   Benefits          112491 non-null  float64\n",
      " 7   TotalPay          148654 non-null  float64\n",
      " 8   TotalPayBenefits  148654 non-null  float64\n",
      " 9   Year              148654 non-null  int64  \n",
      " 10  Notes             0 non-null       float64\n",
      " 11  Agency            148654 non-null  object \n",
      " 12  Status            0 non-null       float64\n",
      "dtypes: float64(8), int64(2), object(3)\n",
      "memory usage: 14.7+ MB\n"
     ]
    }
   ],
   "source": [
    "df.info()"
   ]
  },
  {
   "cell_type": "code",
   "execution_count": 6,
   "metadata": {},
   "outputs": [
    {
     "name": "stdout",
     "output_type": "stream",
     "text": [
      "Column: Id\n",
      "  Data type: int64\n",
      "  Null value count: 0\n",
      "\n",
      "Column: EmployeeName\n",
      "  Data type: object\n",
      "  Null value count: 0\n",
      "\n",
      "Column: JobTitle\n",
      "  Data type: object\n",
      "  Null value count: 0\n",
      "\n",
      "Column: BasePay\n",
      "  Data type: float64\n",
      "  Null value count: 609\n",
      "\n",
      "Column: OvertimePay\n",
      "  Data type: float64\n",
      "  Null value count: 4\n",
      "\n",
      "Column: OtherPay\n",
      "  Data type: float64\n",
      "  Null value count: 4\n",
      "\n",
      "Column: Benefits\n",
      "  Data type: float64\n",
      "  Null value count: 36163\n",
      "\n",
      "Column: TotalPay\n",
      "  Data type: float64\n",
      "  Null value count: 0\n",
      "\n",
      "Column: TotalPayBenefits\n",
      "  Data type: float64\n",
      "  Null value count: 0\n",
      "\n",
      "Column: Year\n",
      "  Data type: int64\n",
      "  Null value count: 0\n",
      "\n",
      "Column: Notes\n",
      "  Data type: float64\n",
      "  Null value count: 148654\n",
      "\n",
      "Column: Agency\n",
      "  Data type: object\n",
      "  Null value count: 0\n",
      "\n",
      "Column: Status\n",
      "  Data type: float64\n",
      "  Null value count: 148654\n",
      "\n"
     ]
    }
   ],
   "source": [
    "for column in df.columns:\n",
    "    data_type = df[column].dtype\n",
    "    null_value_count = df[column].isnull().sum()\n",
    "    print(f\"Column: {column}\\n  Data type: {data_type}\\n  Null value count: {null_value_count}\\n\")\n"
   ]
  },
  {
   "cell_type": "code",
   "execution_count": null,
   "metadata": {},
   "outputs": [],
   "source": []
  },
  {
   "cell_type": "markdown",
   "metadata": {},
   "source": [
    "## 2. Descriptive Statistics"
   ]
  },
  {
   "cell_type": "markdown",
   "metadata": {},
   "source": [
    "Calculate basic statistics mean, median, mode, minimum, and maximum salary, determine the range of salaries, and find the standard deviation."
   ]
  },
  {
   "cell_type": "code",
   "execution_count": 7,
   "metadata": {},
   "outputs": [
    {
     "data": {
      "text/plain": [
       "count    148654.000000\n",
       "mean      74768.321972\n",
       "std       50517.005274\n",
       "min        -618.130000\n",
       "25%       36168.995000\n",
       "50%       71426.610000\n",
       "75%      105839.135000\n",
       "max      567595.430000\n",
       "Name: TotalPay, dtype: float64"
      ]
     },
     "execution_count": 7,
     "metadata": {},
     "output_type": "execute_result"
    }
   ],
   "source": [
    "df['TotalPay'].describe()"
   ]
  },
  {
   "cell_type": "code",
   "execution_count": 8,
   "metadata": {},
   "outputs": [
    {
     "name": "stdout",
     "output_type": "stream",
     "text": [
      "Salary mean: 74768.32197169267\n",
      "Salary median: 71426.60999999999\n",
      "Salary mode: 0.0\n",
      "Salary minimum: -618.13\n",
      "Salary maximum: 567595.43\n",
      "Salary range: 568213.56\n",
      "Salary std: 50517.00527394987\n"
     ]
    }
   ],
   "source": [
    "print(f\"Salary mean: { df['TotalPay'].describe()['mean'] }\")\n",
    "print(f\"Salary median: { df['TotalPay'].describe()['50%'] }\")\n",
    "print(f\"Salary mode: { df['TotalPay'].mode().iloc[0] }\")\n",
    "print(f\"Salary minimum: { df['TotalPay'].describe()['min'] }\")\n",
    "print(f\"Salary maximum: { df['TotalPay'].describe()['max'] }\")\n",
    "print(f\"Salary range: { df['TotalPay'].describe()['max'] - df['TotalPay'].describe()['min']}\")\n",
    "print(f\"Salary std: { df['TotalPay'].describe()['std'] }\")"
   ]
  },
  {
   "cell_type": "code",
   "execution_count": null,
   "metadata": {},
   "outputs": [],
   "source": []
  },
  {
   "cell_type": "markdown",
   "metadata": {},
   "source": [
    "## 3. Data Cleaning"
   ]
  },
  {
   "cell_type": "markdown",
   "metadata": {},
   "source": [
    "Handle missing data by suitable method with explain why you use it."
   ]
  },
  {
   "cell_type": "code",
   "execution_count": 9,
   "metadata": {},
   "outputs": [
    {
     "data": {
      "text/html": [
       "<div>\n",
       "<style scoped>\n",
       "    .dataframe tbody tr th:only-of-type {\n",
       "        vertical-align: middle;\n",
       "    }\n",
       "\n",
       "    .dataframe tbody tr th {\n",
       "        vertical-align: top;\n",
       "    }\n",
       "\n",
       "    .dataframe thead th {\n",
       "        text-align: right;\n",
       "    }\n",
       "</style>\n",
       "<table border=\"1\" class=\"dataframe\">\n",
       "  <thead>\n",
       "    <tr style=\"text-align: right;\">\n",
       "      <th></th>\n",
       "      <th>Id</th>\n",
       "      <th>BasePay</th>\n",
       "      <th>OvertimePay</th>\n",
       "      <th>OtherPay</th>\n",
       "      <th>Benefits</th>\n",
       "      <th>TotalPay</th>\n",
       "      <th>TotalPayBenefits</th>\n",
       "      <th>Year</th>\n",
       "      <th>Notes</th>\n",
       "      <th>Status</th>\n",
       "    </tr>\n",
       "  </thead>\n",
       "  <tbody>\n",
       "    <tr>\n",
       "      <th>count</th>\n",
       "      <td>148654.000000</td>\n",
       "      <td>148045.000000</td>\n",
       "      <td>148650.000000</td>\n",
       "      <td>148650.000000</td>\n",
       "      <td>112491.000000</td>\n",
       "      <td>148654.000000</td>\n",
       "      <td>148654.000000</td>\n",
       "      <td>148654.000000</td>\n",
       "      <td>0.0</td>\n",
       "      <td>0.0</td>\n",
       "    </tr>\n",
       "    <tr>\n",
       "      <th>mean</th>\n",
       "      <td>74327.500000</td>\n",
       "      <td>66325.448840</td>\n",
       "      <td>5066.059886</td>\n",
       "      <td>3648.767297</td>\n",
       "      <td>25007.893151</td>\n",
       "      <td>74768.321972</td>\n",
       "      <td>93692.554811</td>\n",
       "      <td>2012.522643</td>\n",
       "      <td>NaN</td>\n",
       "      <td>NaN</td>\n",
       "    </tr>\n",
       "    <tr>\n",
       "      <th>std</th>\n",
       "      <td>42912.857795</td>\n",
       "      <td>42764.635495</td>\n",
       "      <td>11454.380559</td>\n",
       "      <td>8056.601866</td>\n",
       "      <td>15402.215858</td>\n",
       "      <td>50517.005274</td>\n",
       "      <td>62793.533483</td>\n",
       "      <td>1.117538</td>\n",
       "      <td>NaN</td>\n",
       "      <td>NaN</td>\n",
       "    </tr>\n",
       "    <tr>\n",
       "      <th>min</th>\n",
       "      <td>1.000000</td>\n",
       "      <td>-166.010000</td>\n",
       "      <td>-0.010000</td>\n",
       "      <td>-7058.590000</td>\n",
       "      <td>-33.890000</td>\n",
       "      <td>-618.130000</td>\n",
       "      <td>-618.130000</td>\n",
       "      <td>2011.000000</td>\n",
       "      <td>NaN</td>\n",
       "      <td>NaN</td>\n",
       "    </tr>\n",
       "    <tr>\n",
       "      <th>25%</th>\n",
       "      <td>37164.250000</td>\n",
       "      <td>33588.200000</td>\n",
       "      <td>0.000000</td>\n",
       "      <td>0.000000</td>\n",
       "      <td>11535.395000</td>\n",
       "      <td>36168.995000</td>\n",
       "      <td>44065.650000</td>\n",
       "      <td>2012.000000</td>\n",
       "      <td>NaN</td>\n",
       "      <td>NaN</td>\n",
       "    </tr>\n",
       "    <tr>\n",
       "      <th>50%</th>\n",
       "      <td>74327.500000</td>\n",
       "      <td>65007.450000</td>\n",
       "      <td>0.000000</td>\n",
       "      <td>811.270000</td>\n",
       "      <td>28628.620000</td>\n",
       "      <td>71426.610000</td>\n",
       "      <td>92404.090000</td>\n",
       "      <td>2013.000000</td>\n",
       "      <td>NaN</td>\n",
       "      <td>NaN</td>\n",
       "    </tr>\n",
       "    <tr>\n",
       "      <th>75%</th>\n",
       "      <td>111490.750000</td>\n",
       "      <td>94691.050000</td>\n",
       "      <td>4658.175000</td>\n",
       "      <td>4236.065000</td>\n",
       "      <td>35566.855000</td>\n",
       "      <td>105839.135000</td>\n",
       "      <td>132876.450000</td>\n",
       "      <td>2014.000000</td>\n",
       "      <td>NaN</td>\n",
       "      <td>NaN</td>\n",
       "    </tr>\n",
       "    <tr>\n",
       "      <th>max</th>\n",
       "      <td>148654.000000</td>\n",
       "      <td>319275.010000</td>\n",
       "      <td>245131.880000</td>\n",
       "      <td>400184.250000</td>\n",
       "      <td>96570.660000</td>\n",
       "      <td>567595.430000</td>\n",
       "      <td>567595.430000</td>\n",
       "      <td>2014.000000</td>\n",
       "      <td>NaN</td>\n",
       "      <td>NaN</td>\n",
       "    </tr>\n",
       "  </tbody>\n",
       "</table>\n",
       "</div>"
      ],
      "text/plain": [
       "                  Id        BasePay    OvertimePay       OtherPay  \\\n",
       "count  148654.000000  148045.000000  148650.000000  148650.000000   \n",
       "mean    74327.500000   66325.448840    5066.059886    3648.767297   \n",
       "std     42912.857795   42764.635495   11454.380559    8056.601866   \n",
       "min         1.000000    -166.010000      -0.010000   -7058.590000   \n",
       "25%     37164.250000   33588.200000       0.000000       0.000000   \n",
       "50%     74327.500000   65007.450000       0.000000     811.270000   \n",
       "75%    111490.750000   94691.050000    4658.175000    4236.065000   \n",
       "max    148654.000000  319275.010000  245131.880000  400184.250000   \n",
       "\n",
       "            Benefits       TotalPay  TotalPayBenefits           Year  Notes  \\\n",
       "count  112491.000000  148654.000000     148654.000000  148654.000000    0.0   \n",
       "mean    25007.893151   74768.321972      93692.554811    2012.522643    NaN   \n",
       "std     15402.215858   50517.005274      62793.533483       1.117538    NaN   \n",
       "min       -33.890000    -618.130000       -618.130000    2011.000000    NaN   \n",
       "25%     11535.395000   36168.995000      44065.650000    2012.000000    NaN   \n",
       "50%     28628.620000   71426.610000      92404.090000    2013.000000    NaN   \n",
       "75%     35566.855000  105839.135000     132876.450000    2014.000000    NaN   \n",
       "max     96570.660000  567595.430000     567595.430000    2014.000000    NaN   \n",
       "\n",
       "       Status  \n",
       "count     0.0  \n",
       "mean      NaN  \n",
       "std       NaN  \n",
       "min       NaN  \n",
       "25%       NaN  \n",
       "50%       NaN  \n",
       "75%       NaN  \n",
       "max       NaN  "
      ]
     },
     "execution_count": 9,
     "metadata": {},
     "output_type": "execute_result"
    }
   ],
   "source": [
    "df.describe()"
   ]
  },
  {
   "cell_type": "markdown",
   "metadata": {},
   "source": [
    "for columns: Status and Notes ---> i will drop these two columns because all its values NaN."
   ]
  },
  {
   "cell_type": "code",
   "execution_count": 10,
   "metadata": {},
   "outputs": [],
   "source": [
    "df.drop(columns=['Status', 'Notes'], inplace=True)"
   ]
  },
  {
   "cell_type": "markdown",
   "metadata": {},
   "source": [
    "for columns:  BasePay, OvertimePay, OtherPay and Benefits ---> i will put the median value because there is a big difference between values of mean and median in OvertimePay and OtherPay."
   ]
  },
  {
   "cell_type": "code",
   "execution_count": 11,
   "metadata": {},
   "outputs": [],
   "source": [
    "df['BasePay'] = df['BasePay'].fillna(df['BasePay'].median())\n",
    "df['OvertimePay'] = df['OvertimePay'].fillna(df['OvertimePay'].median())\n",
    "df['OtherPay'] = df['OtherPay'].fillna(df['OtherPay'].median())\n",
    "df['Benefits'] = df['Benefits'].fillna(df['Benefits'].median())"
   ]
  },
  {
   "cell_type": "code",
   "execution_count": null,
   "metadata": {},
   "outputs": [],
   "source": []
  },
  {
   "cell_type": "markdown",
   "metadata": {},
   "source": [
    "## 4. Basic Data Visualization"
   ]
  },
  {
   "cell_type": "markdown",
   "metadata": {},
   "source": [
    "Create histograms or bar charts to visualize the distribution of salaries, and use pie charts to represent the proportion of employees in different departments."
   ]
  },
  {
   "cell_type": "code",
   "execution_count": 12,
   "metadata": {},
   "outputs": [
    {
     "data": {
      "image/png": "[encoded data removed]",
      "text/plain": [
       "<Figure size 640x480 with 1 Axes>"
      ]
     },
     "metadata": {},
     "output_type": "display_data"
    }
   ],
   "source": [
    "plt.hist(df['TotalPay'],bins=20, color='blue', alpha=0.4)\n",
    "\n",
    "plt.xlabel('Salary')\n",
    "plt.ylabel('Frequency')\n",
    "plt.title('Histogram of Salary Distribution')\n",
    "\n",
    "plt.show()"
   ]
  },
  {
   "cell_type": "code",
   "execution_count": null,
   "metadata": {},
   "outputs": [],
   "source": []
  },
  {
   "cell_type": "code",
   "execution_count": 13,
   "metadata": {
    "scrolled": true
   },
   "outputs": [],
   "source": [
    "df['Department'] = df['JobTitle'].apply(\n",
    "    lambda x: re.search(r'\\((.*?)\\)', x).group(1) if re.search(r'\\((.*?)\\)', x) else x\n",
    ")"
   ]
  },
  {
   "cell_type": "code",
   "execution_count": 14,
   "metadata": {},
   "outputs": [
    {
     "data": {
      "text/plain": [
       "Department\n",
       "Transit Operator                         7036\n",
       "Special Nurse                            4389\n",
       "Registered Nurse                         3736\n",
       "Public Svc Aide-Public Works             2518\n",
       "Police Officer 3                         2421\n",
       "                                         ... \n",
       "CHIEF NURSERY SPECIALIST                    1\n",
       "POWERHOUSE ELECTRICIAN SUPERVISOR II        1\n",
       "TRIAL DELAY REDUCTION COORDINATOR           1\n",
       "BUILDING SERVICES TECHNICIAN                1\n",
       "PRINCIPAL INVESTIGATOR, TAX COLLECTOR       1\n",
       "Name: count, Length: 2128, dtype: int64"
      ]
     },
     "execution_count": 14,
     "metadata": {},
     "output_type": "execute_result"
    }
   ],
   "source": [
    "df['Department'].value_counts()"
   ]
  },
  {
   "cell_type": "markdown",
   "metadata": {},
   "source": [
    "Now we should make the name of department unique for example all names about CIVIL/CRIMINAL to be only CIVIL/CRIMINAL not Civil/Criminal or Cvl&Crmnl, and so on for all departments "
   ]
  },
  {
   "cell_type": "code",
   "execution_count": 57,
   "metadata": {},
   "outputs": [],
   "source": [
    "def unique_name(department_name):\n",
    "    if (department_name == 'Civil/Criminal') | (department_name == 'CIVIL/CRIMINAL') | (department_name == 'Civil & Criminal') | (department_name == 'Cvl&Crmnl'):\n",
    "        return 'CIVIL & CRIMINAL'\n",
    "        \n",
    "    if (department_name == 'Fire Dept') | (department_name == 'Fire Department') | (department_name == 'Firefighter') | (department_name == 'FIREFIGHTER'): \n",
    "        return 'FIRE DEPARTMENT'\n",
    "        \n",
    "    if (department_name == 'Seasonal') | (department_name == 'SEASONAL'): \n",
    "        return 'SEASONAL DEPARTMENT'\n",
    "        \n",
    "    if (department_name == 'Police Department') | (department_name == 'Police Officer 3') | (department_name == 'Police Officer 2')| (department_name == 'Police Officer')  | (department_name == 'POLICE OFFICER I') | (department_name == 'POLICE OFFICER II') | (department_name == 'POLICE OFFICER III'): \n",
    "        return 'POLICE DEPARTMENT'\n",
    "        \n",
    "    if department_name == 'Transit Operator': \n",
    "        return 'TRANSIT OPERATOR'\n",
    "        \n",
    "    if (department_name == 'Special Nurse') | (department_name == 'SPECIAL NURSE') | (department_name == 'Registered Nurse') | (department_name == 'REGISTERED NURSE') | (department_name == 'Nursing Assistant') | (department_name == 'Nurse Practitioner'): \n",
    "        return 'NURSE DEPARTMENT'\n",
    "\n",
    "    if (department_name == 'Custodian') : \n",
    "        return 'CUSTODIAN'\n",
    "\n",
    "    if (department_name == 'Recreation Leader') : \n",
    "        return 'RECREATION LEADER'\n",
    "\n",
    "    if (department_name == 'Deputy Sheriff') : \n",
    "        return 'DEPUTY SHERIFF'\n",
    "\n",
    "    if (department_name == 'Public Svc Aide-Public Works') | (department_name == 'Public Service Trainee') | (department_name == 'PUBLIC SERVICE AIDE-SPECIAL PROGRAMS') | (department_name == 'Publ Svc Aide-Asst to Prof'): \n",
    "        return 'PUBLIC SERVICE DEPARTMENT'\n",
    "        \n",
    "    if (department_name == 'General Laborer') : \n",
    "        return 'GENERAL LABORER'\n",
    "\n",
    "    if (department_name == 'Porter') : \n",
    "        return 'PORTER'\n",
    "    \n",
    "    if (department_name == 'Health Worker 1') | (department_name == 'Health Worker 2') | (department_name == 'Health Worker 3') | (department_name == 'Junior Clerk') | (department_name == 'Clerk') | (department_name == 'Senior Account Clerk') | (department_name == 'Senior Clerk Typist') | (department_name == 'Senior Clerk Typist') | (department_name == 'Clerk Typist') | (department_name == 'Principal Clerk') :  \n",
    "        return 'WORKERS'\n",
    "    \n",
    "    return department_name"
   ]
  },
  {
   "cell_type": "code",
   "execution_count": 58,
   "metadata": {},
   "outputs": [
    {
     "name": "stdout",
     "output_type": "stream",
     "text": [
      "NURSE DEPARTMENT\n"
     ]
    }
   ],
   "source": [
    "print(unique_name('Special Nurse'))"
   ]
  },
  {
   "cell_type": "code",
   "execution_count": 60,
   "metadata": {},
   "outputs": [],
   "source": [
    "df['Department'] = df['Department'].apply(\n",
    "    lambda x: unique_name(x)\n",
    ")"
   ]
  },
  {
   "cell_type": "code",
   "execution_count": 63,
   "metadata": {},
   "outputs": [
    {
     "data": {
      "image/png": "[encoded data removed]",
      "text/plain": [
       "<Figure size 640x480 with 1 Axes>"
      ]
     },
     "metadata": {},
     "output_type": "display_data"
    }
   ],
   "source": [
    "department_counts = df['Department'].value_counts()[:10]\n",
    "plt.pie(department_counts, labels=department_counts.index, autopct='%1.1f%%')\n",
    "plt.title('Proportion of Employees in Different Departments')\n",
    "plt.show()"
   ]
  },
  {
   "cell_type": "code",
   "execution_count": null,
   "metadata": {},
   "outputs": [],
   "source": []
  },
  {
   "cell_type": "markdown",
   "metadata": {},
   "source": [
    "## 5. Grouped Analysis"
   ]
  },
  {
   "cell_type": "markdown",
   "metadata": {},
   "source": [
    "Group the data by one or more columns and calculate summary statistics for each group, and compare the average salaries across different groups."
   ]
  },
  {
   "cell_type": "code",
   "execution_count": 70,
   "metadata": {},
   "outputs": [
    {
     "data": {
      "text/plain": [
       "Year\n",
       "2014    38123\n",
       "2013    37606\n",
       "2012    36766\n",
       "2011    36159\n",
       "Name: count, dtype: int64"
      ]
     },
     "execution_count": 70,
     "metadata": {},
     "output_type": "execute_result"
    }
   ],
   "source": [
    "df['Year'].value_counts()"
   ]
  },
  {
   "cell_type": "code",
   "execution_count": 47,
   "metadata": {},
   "outputs": [
    {
     "data": {
      "text/html": [
       "<div>\n",
       "<style scoped>\n",
       "    .dataframe tbody tr th:only-of-type {\n",
       "        vertical-align: middle;\n",
       "    }\n",
       "\n",
       "    .dataframe tbody tr th {\n",
       "        vertical-align: top;\n",
       "    }\n",
       "\n",
       "    .dataframe thead th {\n",
       "        text-align: right;\n",
       "    }\n",
       "</style>\n",
       "<table border=\"1\" class=\"dataframe\">\n",
       "  <thead>\n",
       "    <tr style=\"text-align: right;\">\n",
       "      <th></th>\n",
       "      <th>Year</th>\n",
       "      <th>2011</th>\n",
       "      <th>2012</th>\n",
       "      <th>2013</th>\n",
       "      <th>2014</th>\n",
       "    </tr>\n",
       "  </thead>\n",
       "  <tbody>\n",
       "    <tr>\n",
       "      <th rowspan=\"8\" valign=\"top\">BasePay</th>\n",
       "      <th>count</th>\n",
       "      <td>36159.000000</td>\n",
       "      <td>36766.000000</td>\n",
       "      <td>37606.000000</td>\n",
       "      <td>38123.000000</td>\n",
       "    </tr>\n",
       "    <tr>\n",
       "      <th>mean</th>\n",
       "      <td>63595.956517</td>\n",
       "      <td>65436.406857</td>\n",
       "      <td>69555.662801</td>\n",
       "      <td>66564.258561</td>\n",
       "    </tr>\n",
       "    <tr>\n",
       "      <th>std</th>\n",
       "      <td>40556.774993</td>\n",
       "      <td>41782.209797</td>\n",
       "      <td>43883.674740</td>\n",
       "      <td>44051.475598</td>\n",
       "    </tr>\n",
       "    <tr>\n",
       "      <th>min</th>\n",
       "      <td>0.000000</td>\n",
       "      <td>-166.010000</td>\n",
       "      <td>15.830000</td>\n",
       "      <td>0.000000</td>\n",
       "    </tr>\n",
       "    <tr>\n",
       "      <th>25%</th>\n",
       "      <td>33468.125000</td>\n",
       "      <td>34036.580000</td>\n",
       "      <td>38025.535000</td>\n",
       "      <td>30148.815000</td>\n",
       "    </tr>\n",
       "    <tr>\n",
       "      <th>50%</th>\n",
       "      <td>62871.720000</td>\n",
       "      <td>64017.370000</td>\n",
       "      <td>67132.280000</td>\n",
       "      <td>65055.000000</td>\n",
       "    </tr>\n",
       "    <tr>\n",
       "      <th>75%</th>\n",
       "      <td>90649.765000</td>\n",
       "      <td>92427.927500</td>\n",
       "      <td>97217.345000</td>\n",
       "      <td>94731.015000</td>\n",
       "    </tr>\n",
       "    <tr>\n",
       "      <th>max</th>\n",
       "      <td>294580.020000</td>\n",
       "      <td>302578.000000</td>\n",
       "      <td>319275.010000</td>\n",
       "      <td>318835.490000</td>\n",
       "    </tr>\n",
       "    <tr>\n",
       "      <th rowspan=\"8\" valign=\"top\">OvertimePay</th>\n",
       "      <th>count</th>\n",
       "      <td>36159.000000</td>\n",
       "      <td>36766.000000</td>\n",
       "      <td>37606.000000</td>\n",
       "      <td>38123.000000</td>\n",
       "    </tr>\n",
       "    <tr>\n",
       "      <th>mean</th>\n",
       "      <td>4531.065429</td>\n",
       "      <td>5023.417824</td>\n",
       "      <td>5281.641980</td>\n",
       "      <td>5401.426941</td>\n",
       "    </tr>\n",
       "    <tr>\n",
       "      <th>std</th>\n",
       "      <td>10501.367793</td>\n",
       "      <td>11431.885357</td>\n",
       "      <td>11998.995040</td>\n",
       "      <td>11769.168837</td>\n",
       "    </tr>\n",
       "    <tr>\n",
       "      <th>min</th>\n",
       "      <td>0.000000</td>\n",
       "      <td>0.000000</td>\n",
       "      <td>-0.010000</td>\n",
       "      <td>0.000000</td>\n",
       "    </tr>\n",
       "    <tr>\n",
       "      <th>25%</th>\n",
       "      <td>0.000000</td>\n",
       "      <td>0.000000</td>\n",
       "      <td>0.000000</td>\n",
       "      <td>0.000000</td>\n",
       "    </tr>\n",
       "    <tr>\n",
       "      <th>50%</th>\n",
       "      <td>0.000000</td>\n",
       "      <td>0.000000</td>\n",
       "      <td>0.000000</td>\n",
       "      <td>0.000000</td>\n",
       "    </tr>\n",
       "    <tr>\n",
       "      <th>75%</th>\n",
       "      <td>4215.040000</td>\n",
       "      <td>4691.610000</td>\n",
       "      <td>4707.770000</td>\n",
       "      <td>5112.465000</td>\n",
       "    </tr>\n",
       "    <tr>\n",
       "      <th>max</th>\n",
       "      <td>245131.880000</td>\n",
       "      <td>220909.480000</td>\n",
       "      <td>196689.180000</td>\n",
       "      <td>173547.730000</td>\n",
       "    </tr>\n",
       "    <tr>\n",
       "      <th rowspan=\"8\" valign=\"top\">OtherPay</th>\n",
       "      <th>count</th>\n",
       "      <td>36159.000000</td>\n",
       "      <td>36766.000000</td>\n",
       "      <td>37606.000000</td>\n",
       "      <td>38123.000000</td>\n",
       "    </tr>\n",
       "    <tr>\n",
       "      <th>mean</th>\n",
       "      <td>3617.081926</td>\n",
       "      <td>3653.437583</td>\n",
       "      <td>3819.969007</td>\n",
       "      <td>3505.138571</td>\n",
       "    </tr>\n",
       "    <tr>\n",
       "      <th>std</th>\n",
       "      <td>7959.889157</td>\n",
       "      <td>7936.873235</td>\n",
       "      <td>8536.254718</td>\n",
       "      <td>7766.755678</td>\n",
       "    </tr>\n",
       "    <tr>\n",
       "      <th>min</th>\n",
       "      <td>0.000000</td>\n",
       "      <td>0.000000</td>\n",
       "      <td>-7058.590000</td>\n",
       "      <td>-618.130000</td>\n",
       "    </tr>\n",
       "    <tr>\n",
       "      <th>25%</th>\n",
       "      <td>0.000000</td>\n",
       "      <td>9.722500</td>\n",
       "      <td>0.000000</td>\n",
       "      <td>0.000000</td>\n",
       "    </tr>\n",
       "    <tr>\n",
       "      <th>50%</th>\n",
       "      <td>795.600000</td>\n",
       "      <td>920.645000</td>\n",
       "      <td>792.060000</td>\n",
       "      <td>696.030000</td>\n",
       "    </tr>\n",
       "    <tr>\n",
       "      <th>75%</th>\n",
       "      <td>4057.730000</td>\n",
       "      <td>4339.382500</td>\n",
       "      <td>4448.482500</td>\n",
       "      <td>4097.930000</td>\n",
       "    </tr>\n",
       "    <tr>\n",
       "      <th>max</th>\n",
       "      <td>400184.250000</td>\n",
       "      <td>245999.410000</td>\n",
       "      <td>202322.370000</td>\n",
       "      <td>342802.630000</td>\n",
       "    </tr>\n",
       "    <tr>\n",
       "      <th rowspan=\"8\" valign=\"top\">Benefits</th>\n",
       "      <th>count</th>\n",
       "      <td>36159.000000</td>\n",
       "      <td>36766.000000</td>\n",
       "      <td>37606.000000</td>\n",
       "      <td>38123.000000</td>\n",
       "    </tr>\n",
       "    <tr>\n",
       "      <th>mean</th>\n",
       "      <td>28628.620000</td>\n",
       "      <td>26439.966967</td>\n",
       "      <td>23829.076572</td>\n",
       "      <td>24790.004559</td>\n",
       "    </tr>\n",
       "    <tr>\n",
       "      <th>std</th>\n",
       "      <td>0.000000</td>\n",
       "      <td>15624.924375</td>\n",
       "      <td>14749.075693</td>\n",
       "      <td>15702.959275</td>\n",
       "    </tr>\n",
       "    <tr>\n",
       "      <th>min</th>\n",
       "      <td>28628.620000</td>\n",
       "      <td>0.000000</td>\n",
       "      <td>-33.890000</td>\n",
       "      <td>-13.800000</td>\n",
       "    </tr>\n",
       "    <tr>\n",
       "      <th>25%</th>\n",
       "      <td>28628.620000</td>\n",
       "      <td>13341.815000</td>\n",
       "      <td>10922.462500</td>\n",
       "      <td>10271.115000</td>\n",
       "    </tr>\n",
       "    <tr>\n",
       "      <th>50%</th>\n",
       "      <td>28628.620000</td>\n",
       "      <td>30640.190000</td>\n",
       "      <td>27156.260000</td>\n",
       "      <td>28427.310000</td>\n",
       "    </tr>\n",
       "    <tr>\n",
       "      <th>75%</th>\n",
       "      <td>28628.620000</td>\n",
       "      <td>37201.487500</td>\n",
       "      <td>33900.082500</td>\n",
       "      <td>35445.100000</td>\n",
       "    </tr>\n",
       "    <tr>\n",
       "      <th>max</th>\n",
       "      <td>28628.620000</td>\n",
       "      <td>84681.820000</td>\n",
       "      <td>86533.210000</td>\n",
       "      <td>96570.660000</td>\n",
       "    </tr>\n",
       "    <tr>\n",
       "      <th rowspan=\"8\" valign=\"top\">TotalPay</th>\n",
       "      <th>count</th>\n",
       "      <td>36159.000000</td>\n",
       "      <td>36766.000000</td>\n",
       "      <td>37606.000000</td>\n",
       "      <td>38123.000000</td>\n",
       "    </tr>\n",
       "    <tr>\n",
       "      <th>mean</th>\n",
       "      <td>71744.103871</td>\n",
       "      <td>74113.262265</td>\n",
       "      <td>77611.443142</td>\n",
       "      <td>75463.918140</td>\n",
       "    </tr>\n",
       "    <tr>\n",
       "      <th>std</th>\n",
       "      <td>47498.706594</td>\n",
       "      <td>49523.904319</td>\n",
       "      <td>52854.774783</td>\n",
       "      <td>51697.713029</td>\n",
       "    </tr>\n",
       "    <tr>\n",
       "      <th>min</th>\n",
       "      <td>0.000000</td>\n",
       "      <td>0.000000</td>\n",
       "      <td>0.000000</td>\n",
       "      <td>-618.130000</td>\n",
       "    </tr>\n",
       "    <tr>\n",
       "      <th>25%</th>\n",
       "      <td>36810.760000</td>\n",
       "      <td>37560.607500</td>\n",
       "      <td>36754.995000</td>\n",
       "      <td>33436.210000</td>\n",
       "    </tr>\n",
       "    <tr>\n",
       "      <th>50%</th>\n",
       "      <td>68213.240000</td>\n",
       "      <td>70714.680000</td>\n",
       "      <td>74500.015000</td>\n",
       "      <td>72359.980000</td>\n",
       "    </tr>\n",
       "    <tr>\n",
       "      <th>75%</th>\n",
       "      <td>102512.680000</td>\n",
       "      <td>104099.170000</td>\n",
       "      <td>109637.670000</td>\n",
       "      <td>107974.445000</td>\n",
       "    </tr>\n",
       "    <tr>\n",
       "      <th>max</th>\n",
       "      <td>567595.430000</td>\n",
       "      <td>362844.660000</td>\n",
       "      <td>347102.320000</td>\n",
       "      <td>471952.640000</td>\n",
       "    </tr>\n",
       "    <tr>\n",
       "      <th rowspan=\"8\" valign=\"top\">TotalPayBenefits</th>\n",
       "      <th>count</th>\n",
       "      <td>36159.000000</td>\n",
       "      <td>36766.000000</td>\n",
       "      <td>37606.000000</td>\n",
       "      <td>38123.000000</td>\n",
       "    </tr>\n",
       "    <tr>\n",
       "      <th>mean</th>\n",
       "      <td>71744.103871</td>\n",
       "      <td>100553.229232</td>\n",
       "      <td>101440.519714</td>\n",
       "      <td>100250.918884</td>\n",
       "    </tr>\n",
       "    <tr>\n",
       "      <th>std</th>\n",
       "      <td>47498.706594</td>\n",
       "      <td>63555.796681</td>\n",
       "      <td>66390.034642</td>\n",
       "      <td>66238.852887</td>\n",
       "    </tr>\n",
       "    <tr>\n",
       "      <th>min</th>\n",
       "      <td>0.000000</td>\n",
       "      <td>1.910000</td>\n",
       "      <td>-33.890000</td>\n",
       "      <td>-618.130000</td>\n",
       "    </tr>\n",
       "    <tr>\n",
       "      <th>25%</th>\n",
       "      <td>36810.760000</td>\n",
       "      <td>51743.092500</td>\n",
       "      <td>48259.600000</td>\n",
       "      <td>44199.990000</td>\n",
       "    </tr>\n",
       "    <tr>\n",
       "      <th>50%</th>\n",
       "      <td>68213.240000</td>\n",
       "      <td>101751.290000</td>\n",
       "      <td>101969.445000</td>\n",
       "      <td>101105.370000</td>\n",
       "    </tr>\n",
       "    <tr>\n",
       "      <th>75%</th>\n",
       "      <td>102512.680000</td>\n",
       "      <td>142396.332500</td>\n",
       "      <td>142793.687500</td>\n",
       "      <td>142746.950000</td>\n",
       "    </tr>\n",
       "    <tr>\n",
       "      <th>max</th>\n",
       "      <td>567595.430000</td>\n",
       "      <td>407274.780000</td>\n",
       "      <td>425815.280000</td>\n",
       "      <td>510732.680000</td>\n",
       "    </tr>\n",
       "  </tbody>\n",
       "</table>\n",
       "</div>"
      ],
      "text/plain": [
       "Year                             2011           2012           2013  \\\n",
       "BasePay          count   36159.000000   36766.000000   37606.000000   \n",
       "                 mean    63595.956517   65436.406857   69555.662801   \n",
       "                 std     40556.774993   41782.209797   43883.674740   \n",
       "                 min         0.000000    -166.010000      15.830000   \n",
       "                 25%     33468.125000   34036.580000   38025.535000   \n",
       "                 50%     62871.720000   64017.370000   67132.280000   \n",
       "                 75%     90649.765000   92427.927500   97217.345000   \n",
       "                 max    294580.020000  302578.000000  319275.010000   \n",
       "OvertimePay      count   36159.000000   36766.000000   37606.000000   \n",
       "                 mean     4531.065429    5023.417824    5281.641980   \n",
       "                 std     10501.367793   11431.885357   11998.995040   \n",
       "                 min         0.000000       0.000000      -0.010000   \n",
       "                 25%         0.000000       0.000000       0.000000   \n",
       "                 50%         0.000000       0.000000       0.000000   \n",
       "                 75%      4215.040000    4691.610000    4707.770000   \n",
       "                 max    245131.880000  220909.480000  196689.180000   \n",
       "OtherPay         count   36159.000000   36766.000000   37606.000000   \n",
       "                 mean     3617.081926    3653.437583    3819.969007   \n",
       "                 std      7959.889157    7936.873235    8536.254718   \n",
       "                 min         0.000000       0.000000   -7058.590000   \n",
       "                 25%         0.000000       9.722500       0.000000   \n",
       "                 50%       795.600000     920.645000     792.060000   \n",
       "                 75%      4057.730000    4339.382500    4448.482500   \n",
       "                 max    400184.250000  245999.410000  202322.370000   \n",
       "Benefits         count   36159.000000   36766.000000   37606.000000   \n",
       "                 mean    28628.620000   26439.966967   23829.076572   \n",
       "                 std         0.000000   15624.924375   14749.075693   \n",
       "                 min     28628.620000       0.000000     -33.890000   \n",
       "                 25%     28628.620000   13341.815000   10922.462500   \n",
       "                 50%     28628.620000   30640.190000   27156.260000   \n",
       "                 75%     28628.620000   37201.487500   33900.082500   \n",
       "                 max     28628.620000   84681.820000   86533.210000   \n",
       "TotalPay         count   36159.000000   36766.000000   37606.000000   \n",
       "                 mean    71744.103871   74113.262265   77611.443142   \n",
       "                 std     47498.706594   49523.904319   52854.774783   \n",
       "                 min         0.000000       0.000000       0.000000   \n",
       "                 25%     36810.760000   37560.607500   36754.995000   \n",
       "                 50%     68213.240000   70714.680000   74500.015000   \n",
       "                 75%    102512.680000  104099.170000  109637.670000   \n",
       "                 max    567595.430000  362844.660000  347102.320000   \n",
       "TotalPayBenefits count   36159.000000   36766.000000   37606.000000   \n",
       "                 mean    71744.103871  100553.229232  101440.519714   \n",
       "                 std     47498.706594   63555.796681   66390.034642   \n",
       "                 min         0.000000       1.910000     -33.890000   \n",
       "                 25%     36810.760000   51743.092500   48259.600000   \n",
       "                 50%     68213.240000  101751.290000  101969.445000   \n",
       "                 75%    102512.680000  142396.332500  142793.687500   \n",
       "                 max    567595.430000  407274.780000  425815.280000   \n",
       "\n",
       "Year                             2014  \n",
       "BasePay          count   38123.000000  \n",
       "                 mean    66564.258561  \n",
       "                 std     44051.475598  \n",
       "                 min         0.000000  \n",
       "                 25%     30148.815000  \n",
       "                 50%     65055.000000  \n",
       "                 75%     94731.015000  \n",
       "                 max    318835.490000  \n",
       "OvertimePay      count   38123.000000  \n",
       "                 mean     5401.426941  \n",
       "                 std     11769.168837  \n",
       "                 min         0.000000  \n",
       "                 25%         0.000000  \n",
       "                 50%         0.000000  \n",
       "                 75%      5112.465000  \n",
       "                 max    173547.730000  \n",
       "OtherPay         count   38123.000000  \n",
       "                 mean     3505.138571  \n",
       "                 std      7766.755678  \n",
       "                 min      -618.130000  \n",
       "                 25%         0.000000  \n",
       "                 50%       696.030000  \n",
       "                 75%      4097.930000  \n",
       "                 max    342802.630000  \n",
       "Benefits         count   38123.000000  \n",
       "                 mean    24790.004559  \n",
       "                 std     15702.959275  \n",
       "                 min       -13.800000  \n",
       "                 25%     10271.115000  \n",
       "                 50%     28427.310000  \n",
       "                 75%     35445.100000  \n",
       "                 max     96570.660000  \n",
       "TotalPay         count   38123.000000  \n",
       "                 mean    75463.918140  \n",
       "                 std     51697.713029  \n",
       "                 min      -618.130000  \n",
       "                 25%     33436.210000  \n",
       "                 50%     72359.980000  \n",
       "                 75%    107974.445000  \n",
       "                 max    471952.640000  \n",
       "TotalPayBenefits count   38123.000000  \n",
       "                 mean   100250.918884  \n",
       "                 std     66238.852887  \n",
       "                 min      -618.130000  \n",
       "                 25%     44199.990000  \n",
       "                 50%    101105.370000  \n",
       "                 75%    142746.950000  \n",
       "                 max    510732.680000  "
      ]
     },
     "execution_count": 47,
     "metadata": {},
     "output_type": "execute_result"
    }
   ],
   "source": [
    "df.groupby(['Year'])[ ['BasePay', 'OvertimePay', 'OtherPay', 'Benefits', 'TotalPay', 'TotalPayBenefits']].describe().transpose()"
   ]
  },
  {
   "cell_type": "code",
   "execution_count": 48,
   "metadata": {},
   "outputs": [
    {
     "data": {
      "text/html": [
       "<div>\n",
       "<style scoped>\n",
       "    .dataframe tbody tr th:only-of-type {\n",
       "        vertical-align: middle;\n",
       "    }\n",
       "\n",
       "    .dataframe tbody tr th {\n",
       "        vertical-align: top;\n",
       "    }\n",
       "\n",
       "    .dataframe thead th {\n",
       "        text-align: right;\n",
       "    }\n",
       "</style>\n",
       "<table border=\"1\" class=\"dataframe\">\n",
       "  <thead>\n",
       "    <tr style=\"text-align: right;\">\n",
       "      <th></th>\n",
       "      <th>Year</th>\n",
       "      <th>TotalPay</th>\n",
       "    </tr>\n",
       "  </thead>\n",
       "  <tbody>\n",
       "    <tr>\n",
       "      <th>0</th>\n",
       "      <td>2011</td>\n",
       "      <td>71744.103871</td>\n",
       "    </tr>\n",
       "    <tr>\n",
       "      <th>1</th>\n",
       "      <td>2012</td>\n",
       "      <td>74113.262265</td>\n",
       "    </tr>\n",
       "    <tr>\n",
       "      <th>3</th>\n",
       "      <td>2014</td>\n",
       "      <td>75463.918140</td>\n",
       "    </tr>\n",
       "    <tr>\n",
       "      <th>2</th>\n",
       "      <td>2013</td>\n",
       "      <td>77611.443142</td>\n",
       "    </tr>\n",
       "  </tbody>\n",
       "</table>\n",
       "</div>"
      ],
      "text/plain": [
       "   Year      TotalPay\n",
       "0  2011  71744.103871\n",
       "1  2012  74113.262265\n",
       "3  2014  75463.918140\n",
       "2  2013  77611.443142"
      ]
     },
     "execution_count": 48,
     "metadata": {},
     "output_type": "execute_result"
    }
   ],
   "source": [
    "(\n",
    "    df.groupby(['Year'])['TotalPay'].mean().reset_index()\n",
    ").sort_values('TotalPay')"
   ]
  },
  {
   "cell_type": "code",
   "execution_count": null,
   "metadata": {},
   "outputs": [],
   "source": []
  },
  {
   "cell_type": "markdown",
   "metadata": {},
   "source": [
    "## 6. Simple Correlation Analysis"
   ]
  },
  {
   "cell_type": "markdown",
   "metadata": {},
   "source": [
    "Identify any correlation between salary and another numerical column, and plot a scatter plot to visualize the relationship."
   ]
  },
  {
   "cell_type": "code",
   "execution_count": 42,
   "metadata": {},
   "outputs": [
    {
     "data": {
      "text/html": [
       "<div>\n",
       "<style scoped>\n",
       "    .dataframe tbody tr th:only-of-type {\n",
       "        vertical-align: middle;\n",
       "    }\n",
       "\n",
       "    .dataframe tbody tr th {\n",
       "        vertical-align: top;\n",
       "    }\n",
       "\n",
       "    .dataframe thead th {\n",
       "        text-align: right;\n",
       "    }\n",
       "</style>\n",
       "<table border=\"1\" class=\"dataframe\">\n",
       "  <thead>\n",
       "    <tr style=\"text-align: right;\">\n",
       "      <th></th>\n",
       "      <th>Id</th>\n",
       "      <th>BasePay</th>\n",
       "      <th>OvertimePay</th>\n",
       "      <th>OtherPay</th>\n",
       "      <th>Benefits</th>\n",
       "      <th>TotalPay</th>\n",
       "      <th>TotalPayBenefits</th>\n",
       "      <th>Year</th>\n",
       "    </tr>\n",
       "  </thead>\n",
       "  <tbody>\n",
       "    <tr>\n",
       "      <th>Id</th>\n",
       "      <td>1.000000</td>\n",
       "      <td>-0.204724</td>\n",
       "      <td>-0.081523</td>\n",
       "      <td>-0.100415</td>\n",
       "      <td>-0.313756</td>\n",
       "      <td>-0.211478</td>\n",
       "      <td>-0.092190</td>\n",
       "      <td>0.968171</td>\n",
       "    </tr>\n",
       "    <tr>\n",
       "      <th>BasePay</th>\n",
       "      <td>-0.204724</td>\n",
       "      <td>1.000000</td>\n",
       "      <td>0.266688</td>\n",
       "      <td>0.283747</td>\n",
       "      <td>0.797311</td>\n",
       "      <td>0.950689</td>\n",
       "      <td>0.943166</td>\n",
       "      <td>0.033682</td>\n",
       "    </tr>\n",
       "    <tr>\n",
       "      <th>OvertimePay</th>\n",
       "      <td>-0.081523</td>\n",
       "      <td>0.266688</td>\n",
       "      <td>1.000000</td>\n",
       "      <td>0.316594</td>\n",
       "      <td>0.263699</td>\n",
       "      <td>0.504860</td>\n",
       "      <td>0.467984</td>\n",
       "      <td>0.027870</td>\n",
       "    </tr>\n",
       "    <tr>\n",
       "      <th>OtherPay</th>\n",
       "      <td>-0.100415</td>\n",
       "      <td>0.283747</td>\n",
       "      <td>0.316594</td>\n",
       "      <td>1.000000</td>\n",
       "      <td>0.202007</td>\n",
       "      <td>0.470495</td>\n",
       "      <td>0.422341</td>\n",
       "      <td>-0.002511</td>\n",
       "    </tr>\n",
       "    <tr>\n",
       "      <th>Benefits</th>\n",
       "      <td>-0.313756</td>\n",
       "      <td>0.797311</td>\n",
       "      <td>0.263699</td>\n",
       "      <td>0.202007</td>\n",
       "      <td>1.000000</td>\n",
       "      <td>0.773559</td>\n",
       "      <td>0.814595</td>\n",
       "      <td>-0.116167</td>\n",
       "    </tr>\n",
       "    <tr>\n",
       "      <th>TotalPay</th>\n",
       "      <td>-0.211478</td>\n",
       "      <td>0.950689</td>\n",
       "      <td>0.504860</td>\n",
       "      <td>0.470495</td>\n",
       "      <td>0.773559</td>\n",
       "      <td>1.000000</td>\n",
       "      <td>0.977313</td>\n",
       "      <td>0.032090</td>\n",
       "    </tr>\n",
       "    <tr>\n",
       "      <th>TotalPayBenefits</th>\n",
       "      <td>-0.092190</td>\n",
       "      <td>0.943166</td>\n",
       "      <td>0.467984</td>\n",
       "      <td>0.422341</td>\n",
       "      <td>0.814595</td>\n",
       "      <td>0.977313</td>\n",
       "      <td>1.000000</td>\n",
       "      <td>0.151947</td>\n",
       "    </tr>\n",
       "    <tr>\n",
       "      <th>Year</th>\n",
       "      <td>0.968171</td>\n",
       "      <td>0.033682</td>\n",
       "      <td>0.027870</td>\n",
       "      <td>-0.002511</td>\n",
       "      <td>-0.116167</td>\n",
       "      <td>0.032090</td>\n",
       "      <td>0.151947</td>\n",
       "      <td>1.000000</td>\n",
       "    </tr>\n",
       "  </tbody>\n",
       "</table>\n",
       "</div>"
      ],
      "text/plain": [
       "                        Id   BasePay  OvertimePay  OtherPay  Benefits  \\\n",
       "Id                1.000000 -0.204724    -0.081523 -0.100415 -0.313756   \n",
       "BasePay          -0.204724  1.000000     0.266688  0.283747  0.797311   \n",
       "OvertimePay      -0.081523  0.266688     1.000000  0.316594  0.263699   \n",
       "OtherPay         -0.100415  0.283747     0.316594  1.000000  0.202007   \n",
       "Benefits         -0.313756  0.797311     0.263699  0.202007  1.000000   \n",
       "TotalPay         -0.211478  0.950689     0.504860  0.470495  0.773559   \n",
       "TotalPayBenefits -0.092190  0.943166     0.467984  0.422341  0.814595   \n",
       "Year              0.968171  0.033682     0.027870 -0.002511 -0.116167   \n",
       "\n",
       "                  TotalPay  TotalPayBenefits      Year  \n",
       "Id               -0.211478         -0.092190  0.968171  \n",
       "BasePay           0.950689          0.943166  0.033682  \n",
       "OvertimePay       0.504860          0.467984  0.027870  \n",
       "OtherPay          0.470495          0.422341 -0.002511  \n",
       "Benefits          0.773559          0.814595 -0.116167  \n",
       "TotalPay          1.000000          0.977313  0.032090  \n",
       "TotalPayBenefits  0.977313          1.000000  0.151947  \n",
       "Year              0.032090          0.151947  1.000000  "
      ]
     },
     "execution_count": 42,
     "metadata": {},
     "output_type": "execute_result"
    }
   ],
   "source": [
    "df.corr(numeric_only=True)"
   ]
  },
  {
   "cell_type": "code",
   "execution_count": 68,
   "metadata": {},
   "outputs": [
    {
     "data": {
      "image/png": "[encoded data removed]",
      "text/plain": [
       "<Figure size 640x480 with 1 Axes>"
      ]
     },
     "metadata": {},
     "output_type": "display_data"
    }
   ],
   "source": [
    "plt.scatter(x=df['BasePay'], y=df['TotalPay'])\n",
    "\n",
    "plt.xlabel('BasePay')\n",
    "plt.ylabel('TotalPay')\n",
    "\n",
    "plt.show()"
   ]
  },
  {
   "cell_type": "code",
   "execution_count": 69,
   "metadata": {},
   "outputs": [
    {
     "data": {
      "image/png": "[encoded data removed]",
      "text/plain": [
       "<Figure size 640x480 with 1 Axes>"
      ]
     },
     "metadata": {},
     "output_type": "display_data"
    }
   ],
   "source": [
    "plt.scatter(x=df['TotalPayBenefits'], y=df['TotalPay'])\n",
    "\n",
    "plt.xlabel('TotalPayBenefits')\n",
    "plt.ylabel('TotalPay')\n",
    "\n",
    "plt.show()"
   ]
  },
  {
   "cell_type": "code",
   "execution_count": null,
   "metadata": {},
   "outputs": [],
   "source": []
  },
  {
   "cell_type": "code",
   "execution_count": null,
   "metadata": {},
   "outputs": [],
   "source": []
  }
 ],
 "metadata": {
  "colab": {
   "provenance": []
  },
  "kernelspec": {
   "display_name": "Python 3 (ipykernel)",
   "language": "python",
   "name": "python3"
  },
  "language_info": {
   "codemirror_mode": {
    "name": "ipython",
    "version": 3
   },
   "file_extension": ".py",
   "mimetype": "text/x-python",
   "name": "python",
   "nbconvert_exporter": "python",
   "pygments_lexer": "ipython3",
   "version": "3.10.7"
  }
 },
 "nbformat": 4,
 "nbformat_minor": 4
}
